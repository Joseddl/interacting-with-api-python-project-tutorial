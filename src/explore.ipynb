{
    "cells": [
        {
            "cell_type": "markdown",
            "metadata": {},
            "source": [
                "# Explore here"
            ]
        },
        {
            "cell_type": "code",
            "execution_count": 26,
            "metadata": {},
            "outputs": [],
            "source": [
                "import spotipy\n",
                "from spotipy.oauth2 import SpotifyClientCredentials\n",
                "import spotipy.util as util\n",
                "from dotenv import load_dotenv\n",
                "load_dotenv()\n",
                "import json \n",
                "import pandas as pd\n",
                "import matplotlib.pyplot as plt\n",
                "\n",
                "import os\n",
                "\n"
            ]
        },
        {
            "cell_type": "code",
            "execution_count": 27,
            "metadata": {},
            "outputs": [
                {
                    "name": "stdout",
                    "output_type": "stream",
                    "text": [
                        "1.26.4\n"
                    ]
                }
            ],
            "source": [
                "import numpy as np\n",
                "print(np.__version__)"
            ]
        },
        {
            "cell_type": "code",
            "execution_count": 28,
            "metadata": {},
            "outputs": [],
            "source": [
                "client_id = os.environ.get(\"CLIENT_ID\")\n",
                "client_secret = os.environ.get(\"CLIENT_SECRET\")"
            ]
        },
        {
            "cell_type": "code",
            "execution_count": 29,
            "metadata": {},
            "outputs": [
                {
                    "name": "stdout",
                    "output_type": "stream",
                    "text": [
                        "<spotipy.client.Spotify object at 0x7711c6037490>\n"
                    ]
                }
            ],
            "source": [
                "client_credentials_manager = SpotifyClientCredentials(client_id=client_id, client_secret=client_secret)\n",
                "connection = spotipy.Spotify(client_credentials_manager=client_credentials_manager)\n",
                "print(connection)\n"
            ]
        },
        {
            "cell_type": "code",
            "execution_count": 30,
            "metadata": {},
            "outputs": [
                {
                    "name": "stdout",
                    "output_type": "stream",
                    "text": [
                        "{'tracks': [{'album': {'album_type': 'album', 'artists': [{'external_urls': {'spotify': 'https://open.spotify.com/artist/1hzfo8twXdOegF3xireCYs'}, 'href': 'https://api.spotify.com/v1/artists/1hzfo8twXdOegF3xireCYs', 'id': '1hzfo8twXdOegF3xireCYs', 'name': 'Milky Chance', 'type': 'artist', 'uri': 'spotify:artist:1hzfo8twXdOegF3xireCYs'}], 'external_urls': {'spotify': 'https://open.spotify.com/album/1iCwsK0jUzBPQx7XEpumbz'}, 'href': 'https://api.spotify.com/v1/albums/1iCwsK0jUzBPQx7XEpumbz', 'id': '1iCwsK0jUzBPQx7XEpumbz', 'images': [{'url': 'https://i.scdn.co/image/ab67616d0000b2732001bc1b4dd82d06631fcb9e', 'width': 640, 'height': 640}, {'url': 'https://i.scdn.co/image/ab67616d00001e022001bc1b4dd82d06631fcb9e', 'width': 300, 'height': 300}, {'url': 'https://i.scdn.co/image/ab67616d000048512001bc1b4dd82d06631fcb9e', 'width': 64, 'height': 64}], 'is_playable': True, 'name': 'Sadnecessary', 'release_date': '2013-05-31', 'release_date_precision': 'day', 'total_tracks': 14, 'type': 'album', 'uri': 'spotify:album:1iCwsK0jUzBPQx7XEpumbz'}, 'artists': [{'external_urls': {'spotify': 'https://open.spotify.com/artist/1hzfo8twXdOegF3xireCYs'}, 'href': 'https://api.spotify.com/v1/artists/1hzfo8twXdOegF3xireCYs', 'id': '1hzfo8twXdOegF3xireCYs', 'name': 'Milky Chance', 'type': 'artist', 'uri': 'spotify:artist:1hzfo8twXdOegF3xireCYs'}], 'disc_number': 1, 'duration_ms': 313684, 'explicit': False, 'external_ids': {'isrc': 'DEL211300741'}, 'external_urls': {'spotify': 'https://open.spotify.com/track/34xGLuxM0rkxhCVyMSqwJO'}, 'href': 'https://api.spotify.com/v1/tracks/34xGLuxM0rkxhCVyMSqwJO', 'id': '34xGLuxM0rkxhCVyMSqwJO', 'is_local': False, 'is_playable': True, 'name': 'Stolen Dance', 'popularity': 80, 'preview_url': 'https://p.scdn.co/mp3-preview/a5a49157caae8d8fbb5c82b70a6244a9ec828562?cid=aeaf335900c14e0e99cd849b7fed9cb4', 'track_number': 11, 'type': 'track', 'uri': 'spotify:track:34xGLuxM0rkxhCVyMSqwJO'}, {'album': {'album_type': 'album', 'artists': [{'external_urls': {'spotify': 'https://open.spotify.com/artist/1hzfo8twXdOegF3xireCYs'}, 'href': 'https://api.spotify.com/v1/artists/1hzfo8twXdOegF3xireCYs', 'id': '1hzfo8twXdOegF3xireCYs', 'name': 'Milky Chance', 'type': 'artist', 'uri': 'spotify:artist:1hzfo8twXdOegF3xireCYs'}], 'external_urls': {'spotify': 'https://open.spotify.com/album/1iCwsK0jUzBPQx7XEpumbz'}, 'href': 'https://api.spotify.com/v1/albums/1iCwsK0jUzBPQx7XEpumbz', 'id': '1iCwsK0jUzBPQx7XEpumbz', 'images': [{'url': 'https://i.scdn.co/image/ab67616d0000b2732001bc1b4dd82d06631fcb9e', 'width': 640, 'height': 640}, {'url': 'https://i.scdn.co/image/ab67616d00001e022001bc1b4dd82d06631fcb9e', 'width': 300, 'height': 300}, {'url': 'https://i.scdn.co/image/ab67616d000048512001bc1b4dd82d06631fcb9e', 'width': 64, 'height': 64}], 'is_playable': True, 'name': 'Sadnecessary', 'release_date': '2013-05-31', 'release_date_precision': 'day', 'total_tracks': 14, 'type': 'album', 'uri': 'spotify:album:1iCwsK0jUzBPQx7XEpumbz'}, 'artists': [{'external_urls': {'spotify': 'https://open.spotify.com/artist/1hzfo8twXdOegF3xireCYs'}, 'href': 'https://api.spotify.com/v1/artists/1hzfo8twXdOegF3xireCYs', 'id': '1hzfo8twXdOegF3xireCYs', 'name': 'Milky Chance', 'type': 'artist', 'uri': 'spotify:artist:1hzfo8twXdOegF3xireCYs'}], 'disc_number': 1, 'duration_ms': 262000, 'explicit': False, 'external_ids': {'isrc': 'DEL211300732'}, 'external_urls': {'spotify': 'https://open.spotify.com/track/2D85QAziPXN1KMIW50NPpl'}, 'href': 'https://api.spotify.com/v1/tracks/2D85QAziPXN1KMIW50NPpl', 'id': '2D85QAziPXN1KMIW50NPpl', 'is_local': False, 'is_playable': True, 'name': 'Flashed Junk Mind', 'popularity': 69, 'preview_url': 'https://p.scdn.co/mp3-preview/943357be391e196abc86d2e36734058868876629?cid=aeaf335900c14e0e99cd849b7fed9cb4', 'track_number': 2, 'type': 'track', 'uri': 'spotify:track:2D85QAziPXN1KMIW50NPpl'}, {'album': {'album_type': 'album', 'artists': [{'external_urls': {'spotify': 'https://open.spotify.com/artist/1hzfo8twXdOegF3xireCYs'}, 'href': 'https://api.spotify.com/v1/artists/1hzfo8twXdOegF3xireCYs', 'id': '1hzfo8twXdOegF3xireCYs', 'name': 'Milky Chance', 'type': 'artist', 'uri': 'spotify:artist:1hzfo8twXdOegF3xireCYs'}], 'external_urls': {'spotify': 'https://open.spotify.com/album/0i97wLIXfWMDi3vyRDZBCn'}, 'href': 'https://api.spotify.com/v1/albums/0i97wLIXfWMDi3vyRDZBCn', 'id': '0i97wLIXfWMDi3vyRDZBCn', 'images': [{'url': 'https://i.scdn.co/image/ab67616d0000b27384e9e803499a83ff405f8034', 'width': 640, 'height': 640}, {'url': 'https://i.scdn.co/image/ab67616d00001e0284e9e803499a83ff405f8034', 'width': 300, 'height': 300}, {'url': 'https://i.scdn.co/image/ab67616d0000485184e9e803499a83ff405f8034', 'width': 64, 'height': 64}], 'is_playable': True, 'name': 'Living In A Haze', 'release_date': '2023-06-09', 'release_date_precision': 'day', 'total_tracks': 12, 'type': 'album', 'uri': 'spotify:album:0i97wLIXfWMDi3vyRDZBCn'}, 'artists': [{'external_urls': {'spotify': 'https://open.spotify.com/artist/1hzfo8twXdOegF3xireCYs'}, 'href': 'https://api.spotify.com/v1/artists/1hzfo8twXdOegF3xireCYs', 'id': '1hzfo8twXdOegF3xireCYs', 'name': 'Milky Chance', 'type': 'artist', 'uri': 'spotify:artist:1hzfo8twXdOegF3xireCYs'}], 'disc_number': 1, 'duration_ms': 173369, 'explicit': False, 'external_ids': {'isrc': 'DEVP22300001'}, 'external_urls': {'spotify': 'https://open.spotify.com/track/6vu5xJWIvukCK8cwBXOOj0'}, 'href': 'https://api.spotify.com/v1/tracks/6vu5xJWIvukCK8cwBXOOj0', 'id': '6vu5xJWIvukCK8cwBXOOj0', 'is_local': False, 'is_playable': True, 'name': 'Living In A Haze', 'popularity': 67, 'preview_url': 'https://p.scdn.co/mp3-preview/061703eb7db6b44823312ab83926fe7e17116fbe?cid=aeaf335900c14e0e99cd849b7fed9cb4', 'track_number': 1, 'type': 'track', 'uri': 'spotify:track:6vu5xJWIvukCK8cwBXOOj0'}, {'album': {'album_type': 'album', 'artists': [{'external_urls': {'spotify': 'https://open.spotify.com/artist/1hzfo8twXdOegF3xireCYs'}, 'href': 'https://api.spotify.com/v1/artists/1hzfo8twXdOegF3xireCYs', 'id': '1hzfo8twXdOegF3xireCYs', 'name': 'Milky Chance', 'type': 'artist', 'uri': 'spotify:artist:1hzfo8twXdOegF3xireCYs'}], 'external_urls': {'spotify': 'https://open.spotify.com/album/1iCwsK0jUzBPQx7XEpumbz'}, 'href': 'https://api.spotify.com/v1/albums/1iCwsK0jUzBPQx7XEpumbz', 'id': '1iCwsK0jUzBPQx7XEpumbz', 'images': [{'url': 'https://i.scdn.co/image/ab67616d0000b2732001bc1b4dd82d06631fcb9e', 'width': 640, 'height': 640}, {'url': 'https://i.scdn.co/image/ab67616d00001e022001bc1b4dd82d06631fcb9e', 'width': 300, 'height': 300}, {'url': 'https://i.scdn.co/image/ab67616d000048512001bc1b4dd82d06631fcb9e', 'width': 64, 'height': 64}], 'is_playable': True, 'name': 'Sadnecessary', 'release_date': '2013-05-31', 'release_date_precision': 'day', 'total_tracks': 14, 'type': 'album', 'uri': 'spotify:album:1iCwsK0jUzBPQx7XEpumbz'}, 'artists': [{'external_urls': {'spotify': 'https://open.spotify.com/artist/1hzfo8twXdOegF3xireCYs'}, 'href': 'https://api.spotify.com/v1/artists/1hzfo8twXdOegF3xireCYs', 'id': '1hzfo8twXdOegF3xireCYs', 'name': 'Milky Chance', 'type': 'artist', 'uri': 'spotify:artist:1hzfo8twXdOegF3xireCYs'}], 'disc_number': 1, 'duration_ms': 241052, 'explicit': False, 'external_ids': {'isrc': 'DEL211300737'}, 'external_urls': {'spotify': 'https://open.spotify.com/track/5itF66zYn38tEXTAvFPqIk'}, 'href': 'https://api.spotify.com/v1/tracks/5itF66zYn38tEXTAvFPqIk', 'id': '5itF66zYn38tEXTAvFPqIk', 'is_local': False, 'is_playable': True, 'name': 'Down By The River', 'popularity': 69, 'preview_url': 'https://p.scdn.co/mp3-preview/508e3b12778238fc7ccbaf76a536ceb60f48af98?cid=aeaf335900c14e0e99cd849b7fed9cb4', 'track_number': 8, 'type': 'track', 'uri': 'spotify:track:5itF66zYn38tEXTAvFPqIk'}, {'album': {'album_type': 'album', 'artists': [{'external_urls': {'spotify': 'https://open.spotify.com/artist/1hzfo8twXdOegF3xireCYs'}, 'href': 'https://api.spotify.com/v1/artists/1hzfo8twXdOegF3xireCYs', 'id': '1hzfo8twXdOegF3xireCYs', 'name': 'Milky Chance', 'type': 'artist', 'uri': 'spotify:artist:1hzfo8twXdOegF3xireCYs'}], 'external_urls': {'spotify': 'https://open.spotify.com/album/3anT3sq943fma4yCM5FhvG'}, 'href': 'https://api.spotify.com/v1/albums/3anT3sq943fma4yCM5FhvG', 'id': '3anT3sq943fma4yCM5FhvG', 'images': [{'url': 'https://i.scdn.co/image/ab67616d0000b2739e8a543b2c7aa388a088c2ca', 'width': 640, 'height': 640}, {'url': 'https://i.scdn.co/image/ab67616d00001e029e8a543b2c7aa388a088c2ca', 'width': 300, 'height': 300}, {'url': 'https://i.scdn.co/image/ab67616d000048519e8a543b2c7aa388a088c2ca', 'width': 64, 'height': 64}], 'is_playable': True, 'name': 'Trip Tape II', 'release_date': '2022-10-05', 'release_date_precision': 'day', 'total_tracks': 12, 'type': 'album', 'uri': 'spotify:album:3anT3sq943fma4yCM5FhvG'}, 'artists': [{'external_urls': {'spotify': 'https://open.spotify.com/artist/1hzfo8twXdOegF3xireCYs'}, 'href': 'https://api.spotify.com/v1/artists/1hzfo8twXdOegF3xireCYs', 'id': '1hzfo8twXdOegF3xireCYs', 'name': 'Milky Chance', 'type': 'artist', 'uri': 'spotify:artist:1hzfo8twXdOegF3xireCYs'}], 'disc_number': 1, 'duration_ms': 164576, 'explicit': False, 'external_ids': {'isrc': 'DEVP22200014'}, 'external_urls': {'spotify': 'https://open.spotify.com/track/3GXgrEjBjonrQrPEEi13yU'}, 'href': 'https://api.spotify.com/v1/tracks/3GXgrEjBjonrQrPEEi13yU', 'id': '3GXgrEjBjonrQrPEEi13yU', 'is_local': False, 'is_playable': True, 'name': 'Synchronize', 'popularity': 65, 'preview_url': 'https://p.scdn.co/mp3-preview/8ee59aea3e60bff1bbd169a45f0303fda88711c8?cid=aeaf335900c14e0e99cd849b7fed9cb4', 'track_number': 1, 'type': 'track', 'uri': 'spotify:track:3GXgrEjBjonrQrPEEi13yU'}, {'album': {'album_type': 'album', 'artists': [{'external_urls': {'spotify': 'https://open.spotify.com/artist/1hzfo8twXdOegF3xireCYs'}, 'href': 'https://api.spotify.com/v1/artists/1hzfo8twXdOegF3xireCYs', 'id': '1hzfo8twXdOegF3xireCYs', 'name': 'Milky Chance', 'type': 'artist', 'uri': 'spotify:artist:1hzfo8twXdOegF3xireCYs'}], 'external_urls': {'spotify': 'https://open.spotify.com/album/55JFKeORvxjrtNmvnBstLc'}, 'href': 'https://api.spotify.com/v1/albums/55JFKeORvxjrtNmvnBstLc', 'id': '55JFKeORvxjrtNmvnBstLc', 'images': [{'url': 'https://i.scdn.co/image/ab67616d0000b273269be6fab6b3cddc0359bb8a', 'width': 640, 'height': 640}, {'url': 'https://i.scdn.co/image/ab67616d00001e02269be6fab6b3cddc0359bb8a', 'width': 300, 'height': 300}, {'url': 'https://i.scdn.co/image/ab67616d00004851269be6fab6b3cddc0359bb8a', 'width': 64, 'height': 64}], 'is_playable': True, 'name': 'Blossom (Deluxe)', 'release_date': '2017-03-17', 'release_date_precision': 'day', 'total_tracks': 20, 'type': 'album', 'uri': 'spotify:album:55JFKeORvxjrtNmvnBstLc'}, 'artists': [{'external_urls': {'spotify': 'https://open.spotify.com/artist/1hzfo8twXdOegF3xireCYs'}, 'href': 'https://api.spotify.com/v1/artists/1hzfo8twXdOegF3xireCYs', 'id': '1hzfo8twXdOegF3xireCYs', 'name': 'Milky Chance', 'type': 'artist', 'uri': 'spotify:artist:1hzfo8twXdOegF3xireCYs'}], 'disc_number': 1, 'duration_ms': 255159, 'explicit': False, 'external_ids': {'isrc': 'DEVP21600001'}, 'external_urls': {'spotify': 'https://open.spotify.com/track/1VfrsKu0weD2mO6tfgSdEj'}, 'href': 'https://api.spotify.com/v1/tracks/1VfrsKu0weD2mO6tfgSdEj', 'id': '1VfrsKu0weD2mO6tfgSdEj', 'is_local': False, 'is_playable': True, 'name': 'Cocoon', 'popularity': 57, 'preview_url': 'https://p.scdn.co/mp3-preview/502d4a60341c28db949b0cdd7f2a2157e1885114?cid=aeaf335900c14e0e99cd849b7fed9cb4', 'track_number': 9, 'type': 'track', 'uri': 'spotify:track:1VfrsKu0weD2mO6tfgSdEj'}, {'album': {'album_type': 'album', 'artists': [{'external_urls': {'spotify': 'https://open.spotify.com/artist/1hzfo8twXdOegF3xireCYs'}, 'href': 'https://api.spotify.com/v1/artists/1hzfo8twXdOegF3xireCYs', 'id': '1hzfo8twXdOegF3xireCYs', 'name': 'Milky Chance', 'type': 'artist', 'uri': 'spotify:artist:1hzfo8twXdOegF3xireCYs'}], 'external_urls': {'spotify': 'https://open.spotify.com/album/707cK3j40hIquI15sOcYXP'}, 'href': 'https://api.spotify.com/v1/albums/707cK3j40hIquI15sOcYXP', 'id': '707cK3j40hIquI15sOcYXP', 'images': [{'url': 'https://i.scdn.co/image/ab67616d0000b273cb3aad7083b27bd6c77d9ade', 'width': 640, 'height': 640}, {'url': 'https://i.scdn.co/image/ab67616d00001e02cb3aad7083b27bd6c77d9ade', 'width': 300, 'height': 300}, {'url': 'https://i.scdn.co/image/ab67616d00004851cb3aad7083b27bd6c77d9ade', 'width': 64, 'height': 64}], 'is_playable': True, 'name': 'Trip Tape', 'release_date': '2021-11-03', 'release_date_precision': 'day', 'total_tracks': 12, 'type': 'album', 'uri': 'spotify:album:707cK3j40hIquI15sOcYXP'}, 'artists': [{'external_urls': {'spotify': 'https://open.spotify.com/artist/1hzfo8twXdOegF3xireCYs'}, 'href': 'https://api.spotify.com/v1/artists/1hzfo8twXdOegF3xireCYs', 'id': '1hzfo8twXdOegF3xireCYs', 'name': 'Milky Chance', 'type': 'artist', 'uri': 'spotify:artist:1hzfo8twXdOegF3xireCYs'}], 'disc_number': 1, 'duration_ms': 174347, 'explicit': False, 'external_ids': {'isrc': 'DEVP22100003'}, 'external_urls': {'spotify': 'https://open.spotify.com/track/35iR1qzexmbcUSgA01S4gI'}, 'href': 'https://api.spotify.com/v1/tracks/35iR1qzexmbcUSgA01S4gI', 'id': '35iR1qzexmbcUSgA01S4gI', 'is_local': False, 'is_playable': True, 'name': 'Colorado', 'popularity': 62, 'preview_url': 'https://p.scdn.co/mp3-preview/ce5ecf1aa40c7b12ce64d3370c9ecd7774660ca8?cid=aeaf335900c14e0e99cd849b7fed9cb4', 'track_number': 1, 'type': 'track', 'uri': 'spotify:track:35iR1qzexmbcUSgA01S4gI'}, {'album': {'album_type': 'single', 'artists': [{'external_urls': {'spotify': 'https://open.spotify.com/artist/1hzfo8twXdOegF3xireCYs'}, 'href': 'https://api.spotify.com/v1/artists/1hzfo8twXdOegF3xireCYs', 'id': '1hzfo8twXdOegF3xireCYs', 'name': 'Milky Chance', 'type': 'artist', 'uri': 'spotify:artist:1hzfo8twXdOegF3xireCYs'}, {'external_urls': {'spotify': 'https://open.spotify.com/artist/6ws5XBA70XgeBpnLZhQBoy'}, 'href': 'https://api.spotify.com/v1/artists/6ws5XBA70XgeBpnLZhQBoy', 'id': '6ws5XBA70XgeBpnLZhQBoy', 'name': 'The Beaches', 'type': 'artist', 'uri': 'spotify:artist:6ws5XBA70XgeBpnLZhQBoy'}], 'external_urls': {'spotify': 'https://open.spotify.com/album/6MbzxC0YsqsGyVCOF7nO9E'}, 'href': 'https://api.spotify.com/v1/albums/6MbzxC0YsqsGyVCOF7nO9E', 'id': '6MbzxC0YsqsGyVCOF7nO9E', 'images': [{'url': 'https://i.scdn.co/image/ab67616d0000b273748739d2aa3b440270f0e7af', 'width': 640, 'height': 640}, {'url': 'https://i.scdn.co/image/ab67616d00001e02748739d2aa3b440270f0e7af', 'width': 300, 'height': 300}, {'url': 'https://i.scdn.co/image/ab67616d00004851748739d2aa3b440270f0e7af', 'width': 64, 'height': 64}], 'is_playable': True, 'name': 'Living In A Haze (feat. The Beaches)', 'release_date': '2024-03-29', 'release_date_precision': 'day', 'total_tracks': 1, 'type': 'album', 'uri': 'spotify:album:6MbzxC0YsqsGyVCOF7nO9E'}, 'artists': [{'external_urls': {'spotify': 'https://open.spotify.com/artist/1hzfo8twXdOegF3xireCYs'}, 'href': 'https://api.spotify.com/v1/artists/1hzfo8twXdOegF3xireCYs', 'id': '1hzfo8twXdOegF3xireCYs', 'name': 'Milky Chance', 'type': 'artist', 'uri': 'spotify:artist:1hzfo8twXdOegF3xireCYs'}, {'external_urls': {'spotify': 'https://open.spotify.com/artist/6ws5XBA70XgeBpnLZhQBoy'}, 'href': 'https://api.spotify.com/v1/artists/6ws5XBA70XgeBpnLZhQBoy', 'id': '6ws5XBA70XgeBpnLZhQBoy', 'name': 'The Beaches', 'type': 'artist', 'uri': 'spotify:artist:6ws5XBA70XgeBpnLZhQBoy'}], 'disc_number': 1, 'duration_ms': 173371, 'explicit': True, 'external_ids': {'isrc': 'DEVP22400009'}, 'external_urls': {'spotify': 'https://open.spotify.com/track/5QPRZdajTSKbdUERR8zvWB'}, 'href': 'https://api.spotify.com/v1/tracks/5QPRZdajTSKbdUERR8zvWB', 'id': '5QPRZdajTSKbdUERR8zvWB', 'is_local': False, 'is_playable': True, 'name': 'Living In A Haze - feat. The Beaches', 'popularity': 63, 'preview_url': 'https://p.scdn.co/mp3-preview/a556870c8739de5865285204dacf0f42741072f9?cid=aeaf335900c14e0e99cd849b7fed9cb4', 'track_number': 1, 'type': 'track', 'uri': 'spotify:track:5QPRZdajTSKbdUERR8zvWB'}, {'album': {'album_type': 'single', 'artists': [{'external_urls': {'spotify': 'https://open.spotify.com/artist/1hzfo8twXdOegF3xireCYs'}, 'href': 'https://api.spotify.com/v1/artists/1hzfo8twXdOegF3xireCYs', 'id': '1hzfo8twXdOegF3xireCYs', 'name': 'Milky Chance', 'type': 'artist', 'uri': 'spotify:artist:1hzfo8twXdOegF3xireCYs'}], 'external_urls': {'spotify': 'https://open.spotify.com/album/6mPCKnNWmqzIhuLAwuCfQe'}, 'href': 'https://api.spotify.com/v1/albums/6mPCKnNWmqzIhuLAwuCfQe', 'id': '6mPCKnNWmqzIhuLAwuCfQe', 'images': [{'url': 'https://i.scdn.co/image/ab67616d0000b27344072c9d8a0c109696780f07', 'width': 640, 'height': 640}, {'url': 'https://i.scdn.co/image/ab67616d00001e0244072c9d8a0c109696780f07', 'width': 300, 'height': 300}, {'url': 'https://i.scdn.co/image/ab67616d0000485144072c9d8a0c109696780f07', 'width': 64, 'height': 64}], 'is_playable': True, 'name': 'Naked And Alive', 'release_date': '2024-05-30', 'release_date_precision': 'day', 'total_tracks': 1, 'type': 'album', 'uri': 'spotify:album:6mPCKnNWmqzIhuLAwuCfQe'}, 'artists': [{'external_urls': {'spotify': 'https://open.spotify.com/artist/1hzfo8twXdOegF3xireCYs'}, 'href': 'https://api.spotify.com/v1/artists/1hzfo8twXdOegF3xireCYs', 'id': '1hzfo8twXdOegF3xireCYs', 'name': 'Milky Chance', 'type': 'artist', 'uri': 'spotify:artist:1hzfo8twXdOegF3xireCYs'}], 'disc_number': 1, 'duration_ms': 207669, 'explicit': False, 'external_ids': {'isrc': 'DEVP22400045'}, 'external_urls': {'spotify': 'https://open.spotify.com/track/5ivyL3WEFCo0IfivYC0FOF'}, 'href': 'https://api.spotify.com/v1/tracks/5ivyL3WEFCo0IfivYC0FOF', 'id': '5ivyL3WEFCo0IfivYC0FOF', 'is_local': False, 'is_playable': True, 'name': 'Naked And Alive', 'popularity': 61, 'preview_url': 'https://p.scdn.co/mp3-preview/0fc008f7a83e0171657da7dc409a7bc885fce353?cid=aeaf335900c14e0e99cd849b7fed9cb4', 'track_number': 1, 'type': 'track', 'uri': 'spotify:track:5ivyL3WEFCo0IfivYC0FOF'}, {'album': {'album_type': 'album', 'artists': [{'external_urls': {'spotify': 'https://open.spotify.com/artist/1hzfo8twXdOegF3xireCYs'}, 'href': 'https://api.spotify.com/v1/artists/1hzfo8twXdOegF3xireCYs', 'id': '1hzfo8twXdOegF3xireCYs', 'name': 'Milky Chance', 'type': 'artist', 'uri': 'spotify:artist:1hzfo8twXdOegF3xireCYs'}], 'external_urls': {'spotify': 'https://open.spotify.com/album/0i97wLIXfWMDi3vyRDZBCn'}, 'href': 'https://api.spotify.com/v1/albums/0i97wLIXfWMDi3vyRDZBCn', 'id': '0i97wLIXfWMDi3vyRDZBCn', 'images': [{'url': 'https://i.scdn.co/image/ab67616d0000b27384e9e803499a83ff405f8034', 'width': 640, 'height': 640}, {'url': 'https://i.scdn.co/image/ab67616d00001e0284e9e803499a83ff405f8034', 'width': 300, 'height': 300}, {'url': 'https://i.scdn.co/image/ab67616d0000485184e9e803499a83ff405f8034', 'width': 64, 'height': 64}], 'is_playable': True, 'name': 'Living In A Haze', 'release_date': '2023-06-09', 'release_date_precision': 'day', 'total_tracks': 12, 'type': 'album', 'uri': 'spotify:album:0i97wLIXfWMDi3vyRDZBCn'}, 'artists': [{'external_urls': {'spotify': 'https://open.spotify.com/artist/1hzfo8twXdOegF3xireCYs'}, 'href': 'https://api.spotify.com/v1/artists/1hzfo8twXdOegF3xireCYs', 'id': '1hzfo8twXdOegF3xireCYs', 'name': 'Milky Chance', 'type': 'artist', 'uri': 'spotify:artist:1hzfo8twXdOegF3xireCYs'}], 'disc_number': 1, 'duration_ms': 221560, 'explicit': False, 'external_ids': {'isrc': 'DEVP22300008'}, 'external_urls': {'spotify': 'https://open.spotify.com/track/1BSTT3sbQ1MVVacApHilK9'}, 'href': 'https://api.spotify.com/v1/tracks/1BSTT3sbQ1MVVacApHilK9', 'id': '1BSTT3sbQ1MVVacApHilK9', 'is_local': False, 'is_playable': True, 'name': 'Feeling For You', 'popularity': 61, 'preview_url': 'https://p.scdn.co/mp3-preview/839eb644c788cbf6a341a558265f4446bc856d38?cid=aeaf335900c14e0e99cd849b7fed9cb4', 'track_number': 10, 'type': 'track', 'uri': 'spotify:track:1BSTT3sbQ1MVVacApHilK9'}]}\n"
                    ]
                }
            ],
            "source": [
                "sp = spotipy.Spotify(client_credentials_manager=client_credentials_manager)\n",
                "result = sp.artist_top_tracks(\"1hzfo8twXdOegF3xireCYs\")\n",
                "print(result)"
            ]
        },
        {
            "cell_type": "code",
            "execution_count": 31,
            "metadata": {},
            "outputs": [],
            "source": [
                "df = pd.json_normalize(result['tracks'])"
            ]
        },
        {
            "cell_type": "code",
            "execution_count": 32,
            "metadata": {},
            "outputs": [
                {
                    "data": {
                        "text/html": [
                            "<div>\n",
                            "<style scoped>\n",
                            "    .dataframe tbody tr th:only-of-type {\n",
                            "        vertical-align: middle;\n",
                            "    }\n",
                            "\n",
                            "    .dataframe tbody tr th {\n",
                            "        vertical-align: top;\n",
                            "    }\n",
                            "\n",
                            "    .dataframe thead th {\n",
                            "        text-align: right;\n",
                            "    }\n",
                            "</style>\n",
                            "<table border=\"1\" class=\"dataframe\">\n",
                            "  <thead>\n",
                            "    <tr style=\"text-align: right;\">\n",
                            "      <th></th>\n",
                            "      <th>artists</th>\n",
                            "      <th>disc_number</th>\n",
                            "      <th>duration_ms</th>\n",
                            "      <th>explicit</th>\n",
                            "      <th>href</th>\n",
                            "      <th>id</th>\n",
                            "      <th>is_local</th>\n",
                            "      <th>is_playable</th>\n",
                            "      <th>name</th>\n",
                            "      <th>popularity</th>\n",
                            "      <th>...</th>\n",
                            "      <th>album.images</th>\n",
                            "      <th>album.is_playable</th>\n",
                            "      <th>album.name</th>\n",
                            "      <th>album.release_date</th>\n",
                            "      <th>album.release_date_precision</th>\n",
                            "      <th>album.total_tracks</th>\n",
                            "      <th>album.type</th>\n",
                            "      <th>album.uri</th>\n",
                            "      <th>external_ids.isrc</th>\n",
                            "      <th>external_urls.spotify</th>\n",
                            "    </tr>\n",
                            "  </thead>\n",
                            "  <tbody>\n",
                            "    <tr>\n",
                            "      <th>0</th>\n",
                            "      <td>[{'external_urls': {'spotify': 'https://open.s...</td>\n",
                            "      <td>1</td>\n",
                            "      <td>313684</td>\n",
                            "      <td>False</td>\n",
                            "      <td>https://api.spotify.com/v1/tracks/34xGLuxM0rkx...</td>\n",
                            "      <td>34xGLuxM0rkxhCVyMSqwJO</td>\n",
                            "      <td>False</td>\n",
                            "      <td>True</td>\n",
                            "      <td>Stolen Dance</td>\n",
                            "      <td>80</td>\n",
                            "      <td>...</td>\n",
                            "      <td>[{'url': 'https://i.scdn.co/image/ab67616d0000...</td>\n",
                            "      <td>True</td>\n",
                            "      <td>Sadnecessary</td>\n",
                            "      <td>2013-05-31</td>\n",
                            "      <td>day</td>\n",
                            "      <td>14</td>\n",
                            "      <td>album</td>\n",
                            "      <td>spotify:album:1iCwsK0jUzBPQx7XEpumbz</td>\n",
                            "      <td>DEL211300741</td>\n",
                            "      <td>https://open.spotify.com/track/34xGLuxM0rkxhCV...</td>\n",
                            "    </tr>\n",
                            "    <tr>\n",
                            "      <th>1</th>\n",
                            "      <td>[{'external_urls': {'spotify': 'https://open.s...</td>\n",
                            "      <td>1</td>\n",
                            "      <td>262000</td>\n",
                            "      <td>False</td>\n",
                            "      <td>https://api.spotify.com/v1/tracks/2D85QAziPXN1...</td>\n",
                            "      <td>2D85QAziPXN1KMIW50NPpl</td>\n",
                            "      <td>False</td>\n",
                            "      <td>True</td>\n",
                            "      <td>Flashed Junk Mind</td>\n",
                            "      <td>69</td>\n",
                            "      <td>...</td>\n",
                            "      <td>[{'url': 'https://i.scdn.co/image/ab67616d0000...</td>\n",
                            "      <td>True</td>\n",
                            "      <td>Sadnecessary</td>\n",
                            "      <td>2013-05-31</td>\n",
                            "      <td>day</td>\n",
                            "      <td>14</td>\n",
                            "      <td>album</td>\n",
                            "      <td>spotify:album:1iCwsK0jUzBPQx7XEpumbz</td>\n",
                            "      <td>DEL211300732</td>\n",
                            "      <td>https://open.spotify.com/track/2D85QAziPXN1KMI...</td>\n",
                            "    </tr>\n",
                            "    <tr>\n",
                            "      <th>2</th>\n",
                            "      <td>[{'external_urls': {'spotify': 'https://open.s...</td>\n",
                            "      <td>1</td>\n",
                            "      <td>173369</td>\n",
                            "      <td>False</td>\n",
                            "      <td>https://api.spotify.com/v1/tracks/6vu5xJWIvukC...</td>\n",
                            "      <td>6vu5xJWIvukCK8cwBXOOj0</td>\n",
                            "      <td>False</td>\n",
                            "      <td>True</td>\n",
                            "      <td>Living In A Haze</td>\n",
                            "      <td>67</td>\n",
                            "      <td>...</td>\n",
                            "      <td>[{'url': 'https://i.scdn.co/image/ab67616d0000...</td>\n",
                            "      <td>True</td>\n",
                            "      <td>Living In A Haze</td>\n",
                            "      <td>2023-06-09</td>\n",
                            "      <td>day</td>\n",
                            "      <td>12</td>\n",
                            "      <td>album</td>\n",
                            "      <td>spotify:album:0i97wLIXfWMDi3vyRDZBCn</td>\n",
                            "      <td>DEVP22300001</td>\n",
                            "      <td>https://open.spotify.com/track/6vu5xJWIvukCK8c...</td>\n",
                            "    </tr>\n",
                            "    <tr>\n",
                            "      <th>3</th>\n",
                            "      <td>[{'external_urls': {'spotify': 'https://open.s...</td>\n",
                            "      <td>1</td>\n",
                            "      <td>241052</td>\n",
                            "      <td>False</td>\n",
                            "      <td>https://api.spotify.com/v1/tracks/5itF66zYn38t...</td>\n",
                            "      <td>5itF66zYn38tEXTAvFPqIk</td>\n",
                            "      <td>False</td>\n",
                            "      <td>True</td>\n",
                            "      <td>Down By The River</td>\n",
                            "      <td>69</td>\n",
                            "      <td>...</td>\n",
                            "      <td>[{'url': 'https://i.scdn.co/image/ab67616d0000...</td>\n",
                            "      <td>True</td>\n",
                            "      <td>Sadnecessary</td>\n",
                            "      <td>2013-05-31</td>\n",
                            "      <td>day</td>\n",
                            "      <td>14</td>\n",
                            "      <td>album</td>\n",
                            "      <td>spotify:album:1iCwsK0jUzBPQx7XEpumbz</td>\n",
                            "      <td>DEL211300737</td>\n",
                            "      <td>https://open.spotify.com/track/5itF66zYn38tEXT...</td>\n",
                            "    </tr>\n",
                            "    <tr>\n",
                            "      <th>4</th>\n",
                            "      <td>[{'external_urls': {'spotify': 'https://open.s...</td>\n",
                            "      <td>1</td>\n",
                            "      <td>164576</td>\n",
                            "      <td>False</td>\n",
                            "      <td>https://api.spotify.com/v1/tracks/3GXgrEjBjonr...</td>\n",
                            "      <td>3GXgrEjBjonrQrPEEi13yU</td>\n",
                            "      <td>False</td>\n",
                            "      <td>True</td>\n",
                            "      <td>Synchronize</td>\n",
                            "      <td>65</td>\n",
                            "      <td>...</td>\n",
                            "      <td>[{'url': 'https://i.scdn.co/image/ab67616d0000...</td>\n",
                            "      <td>True</td>\n",
                            "      <td>Trip Tape II</td>\n",
                            "      <td>2022-10-05</td>\n",
                            "      <td>day</td>\n",
                            "      <td>12</td>\n",
                            "      <td>album</td>\n",
                            "      <td>spotify:album:3anT3sq943fma4yCM5FhvG</td>\n",
                            "      <td>DEVP22200014</td>\n",
                            "      <td>https://open.spotify.com/track/3GXgrEjBjonrQrP...</td>\n",
                            "    </tr>\n",
                            "  </tbody>\n",
                            "</table>\n",
                            "<p>5 rows × 29 columns</p>\n",
                            "</div>"
                        ],
                        "text/plain": [
                            "                                             artists  disc_number  \\\n",
                            "0  [{'external_urls': {'spotify': 'https://open.s...            1   \n",
                            "1  [{'external_urls': {'spotify': 'https://open.s...            1   \n",
                            "2  [{'external_urls': {'spotify': 'https://open.s...            1   \n",
                            "3  [{'external_urls': {'spotify': 'https://open.s...            1   \n",
                            "4  [{'external_urls': {'spotify': 'https://open.s...            1   \n",
                            "\n",
                            "   duration_ms  explicit                                               href  \\\n",
                            "0       313684     False  https://api.spotify.com/v1/tracks/34xGLuxM0rkx...   \n",
                            "1       262000     False  https://api.spotify.com/v1/tracks/2D85QAziPXN1...   \n",
                            "2       173369     False  https://api.spotify.com/v1/tracks/6vu5xJWIvukC...   \n",
                            "3       241052     False  https://api.spotify.com/v1/tracks/5itF66zYn38t...   \n",
                            "4       164576     False  https://api.spotify.com/v1/tracks/3GXgrEjBjonr...   \n",
                            "\n",
                            "                       id  is_local  is_playable               name  \\\n",
                            "0  34xGLuxM0rkxhCVyMSqwJO     False         True       Stolen Dance   \n",
                            "1  2D85QAziPXN1KMIW50NPpl     False         True  Flashed Junk Mind   \n",
                            "2  6vu5xJWIvukCK8cwBXOOj0     False         True   Living In A Haze   \n",
                            "3  5itF66zYn38tEXTAvFPqIk     False         True  Down By The River   \n",
                            "4  3GXgrEjBjonrQrPEEi13yU     False         True        Synchronize   \n",
                            "\n",
                            "   popularity  ...                                       album.images  \\\n",
                            "0          80  ...  [{'url': 'https://i.scdn.co/image/ab67616d0000...   \n",
                            "1          69  ...  [{'url': 'https://i.scdn.co/image/ab67616d0000...   \n",
                            "2          67  ...  [{'url': 'https://i.scdn.co/image/ab67616d0000...   \n",
                            "3          69  ...  [{'url': 'https://i.scdn.co/image/ab67616d0000...   \n",
                            "4          65  ...  [{'url': 'https://i.scdn.co/image/ab67616d0000...   \n",
                            "\n",
                            "   album.is_playable        album.name album.release_date  \\\n",
                            "0               True      Sadnecessary         2013-05-31   \n",
                            "1               True      Sadnecessary         2013-05-31   \n",
                            "2               True  Living In A Haze         2023-06-09   \n",
                            "3               True      Sadnecessary         2013-05-31   \n",
                            "4               True      Trip Tape II         2022-10-05   \n",
                            "\n",
                            "  album.release_date_precision album.total_tracks album.type  \\\n",
                            "0                          day                 14      album   \n",
                            "1                          day                 14      album   \n",
                            "2                          day                 12      album   \n",
                            "3                          day                 14      album   \n",
                            "4                          day                 12      album   \n",
                            "\n",
                            "                              album.uri external_ids.isrc  \\\n",
                            "0  spotify:album:1iCwsK0jUzBPQx7XEpumbz      DEL211300741   \n",
                            "1  spotify:album:1iCwsK0jUzBPQx7XEpumbz      DEL211300732   \n",
                            "2  spotify:album:0i97wLIXfWMDi3vyRDZBCn      DEVP22300001   \n",
                            "3  spotify:album:1iCwsK0jUzBPQx7XEpumbz      DEL211300737   \n",
                            "4  spotify:album:3anT3sq943fma4yCM5FhvG      DEVP22200014   \n",
                            "\n",
                            "                               external_urls.spotify  \n",
                            "0  https://open.spotify.com/track/34xGLuxM0rkxhCV...  \n",
                            "1  https://open.spotify.com/track/2D85QAziPXN1KMI...  \n",
                            "2  https://open.spotify.com/track/6vu5xJWIvukCK8c...  \n",
                            "3  https://open.spotify.com/track/5itF66zYn38tEXT...  \n",
                            "4  https://open.spotify.com/track/3GXgrEjBjonrQrP...  \n",
                            "\n",
                            "[5 rows x 29 columns]"
                        ]
                    },
                    "execution_count": 32,
                    "metadata": {},
                    "output_type": "execute_result"
                }
            ],
            "source": [
                "df.head()\n"
            ]
        },
        {
            "cell_type": "code",
            "execution_count": 33,
            "metadata": {},
            "outputs": [
                {
                    "data": {
                        "text/plain": [
                            "Index(['artists', 'disc_number', 'duration_ms', 'explicit', 'href', 'id',\n",
                            "       'is_local', 'is_playable', 'name', 'popularity', 'preview_url',\n",
                            "       'track_number', 'type', 'uri', 'album.album_type', 'album.artists',\n",
                            "       'album.external_urls.spotify', 'album.href', 'album.id', 'album.images',\n",
                            "       'album.is_playable', 'album.name', 'album.release_date',\n",
                            "       'album.release_date_precision', 'album.total_tracks', 'album.type',\n",
                            "       'album.uri', 'external_ids.isrc', 'external_urls.spotify'],\n",
                            "      dtype='object')"
                        ]
                    },
                    "execution_count": 33,
                    "metadata": {},
                    "output_type": "execute_result"
                }
            ],
            "source": [
                "df.columns"
            ]
        },
        {
            "cell_type": "code",
            "execution_count": 34,
            "metadata": {},
            "outputs": [],
            "source": [
                "df1=df[[\"name\", \"popularity\", \"duration_ms\"]]"
            ]
        },
        {
            "cell_type": "code",
            "execution_count": 35,
            "metadata": {},
            "outputs": [
                {
                    "data": {
                        "text/html": [
                            "<div>\n",
                            "<style scoped>\n",
                            "    .dataframe tbody tr th:only-of-type {\n",
                            "        vertical-align: middle;\n",
                            "    }\n",
                            "\n",
                            "    .dataframe tbody tr th {\n",
                            "        vertical-align: top;\n",
                            "    }\n",
                            "\n",
                            "    .dataframe thead th {\n",
                            "        text-align: right;\n",
                            "    }\n",
                            "</style>\n",
                            "<table border=\"1\" class=\"dataframe\">\n",
                            "  <thead>\n",
                            "    <tr style=\"text-align: right;\">\n",
                            "      <th></th>\n",
                            "      <th>name</th>\n",
                            "      <th>popularity</th>\n",
                            "      <th>duration_ms</th>\n",
                            "    </tr>\n",
                            "  </thead>\n",
                            "  <tbody>\n",
                            "    <tr>\n",
                            "      <th>0</th>\n",
                            "      <td>Stolen Dance</td>\n",
                            "      <td>80</td>\n",
                            "      <td>313684</td>\n",
                            "    </tr>\n",
                            "    <tr>\n",
                            "      <th>1</th>\n",
                            "      <td>Flashed Junk Mind</td>\n",
                            "      <td>69</td>\n",
                            "      <td>262000</td>\n",
                            "    </tr>\n",
                            "    <tr>\n",
                            "      <th>3</th>\n",
                            "      <td>Down By The River</td>\n",
                            "      <td>69</td>\n",
                            "      <td>241052</td>\n",
                            "    </tr>\n",
                            "  </tbody>\n",
                            "</table>\n",
                            "</div>"
                        ],
                        "text/plain": [
                            "                name  popularity  duration_ms\n",
                            "0       Stolen Dance          80       313684\n",
                            "1  Flashed Junk Mind          69       262000\n",
                            "3  Down By The River          69       241052"
                        ]
                    },
                    "execution_count": 35,
                    "metadata": {},
                    "output_type": "execute_result"
                }
            ],
            "source": [
                "df1.sort_values(by='popularity', ascending=False).head(3)"
            ]
        },
        {
            "cell_type": "code",
            "execution_count": 41,
            "metadata": {},
            "outputs": [
                {
                    "data": {
                        "image/png": "[encoded data removed]",
                        "text/plain": [
                            "<Figure size 640x480 with 1 Axes>"
                        ]
                    },
                    "metadata": {},
                    "output_type": "display_data"
                }
            ],
            "source": [
                "plt.scatter(df1.popularity, df1.duration_ms)\n",
                "z = np.polyfit(df1.popularity, df1.duration_ms, 1)\n",
                "p = np.poly1d(z)\n",
                "plt.plot(df1.popularity,p(df1.popularity),\"r--\")\n",
                "\n",
                "plt.show()"
            ]
        }
    ],
    "metadata": {
        "kernelspec": {
            "display_name": "Python 3.8.13 64-bit ('3.8.13')",
            "language": "python",
            "name": "python3"
        },
        "language_info": {
            "codemirror_mode": {
                "name": "ipython",
                "version": 3
            },
            "file_extension": ".py",
            "mimetype": "text/x-python",
            "name": "python",
            "nbconvert_exporter": "python",
            "pygments_lexer": "ipython3",
            "version": "3.11.4"
        },
        "orig_nbformat": 4,
        "vscode": {
            "interpreter": {
                "hash": "110cc1dee26208153f2972f08a2ad52b6a56238dc66d48e87fb757ef2996db56"
            }
        }
    },
    "nbformat": 4,
    "nbformat_minor": 2
}
